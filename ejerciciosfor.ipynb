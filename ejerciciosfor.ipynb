{
  "nbformat": 4,
  "nbformat_minor": 0,
  "metadata": {
    "colab": {
      "provenance": [],
      "authorship_tag": "ABX9TyOZe5Z7sUfcBN4y2PRadyzp",
      "include_colab_link": true
    },
    "kernelspec": {
      "name": "python3",
      "display_name": "Python 3"
    },
    "language_info": {
      "name": "python"
    }
  },
  "cells": [
    {
      "cell_type": "markdown",
      "metadata": {
        "id": "view-in-github",
        "colab_type": "text"
      },
      "source": [
        "<a href=\"https://colab.research.google.com/github/fernandorangel2024/convertir_temperatura/blob/main/ejerciciosfor.ipynb\" target=\"_parent\"><img src=\"https://colab.research.google.com/assets/colab-badge.svg\" alt=\"Open In Colab\"/></a>"
      ]
    },
    {
      "cell_type": "markdown",
      "source": [
        "# instrución repetitiva for"
      ],
      "metadata": {
        "id": "BsGKvlT8rP4f"
      }
    },
    {
      "cell_type": "code",
      "execution_count": null,
      "metadata": {
        "id": "KmZAH79qqWEh"
      },
      "outputs": [],
      "source": [
        "# EJERCICIO 1: mostrar los numeros del 1 al 10 sin usar funciones repetitivas\n",
        " \n",
        "print(1)\n",
        "print(2)\n",
        "print(3)\n",
        "print(4)\n",
        "print(5)\n",
        "print(6)\n",
        "print(7)\n",
        "print(8)\n",
        "print(9)\n",
        "print(10)\n"
      ]
    },
    {
      "cell_type": "code",
      "source": [
        "# EJERCICIO 2: mostrar los numeros del 1 al 10, usando la instruccion while\n",
        "\n",
        "contador = 1\n",
        "print(contador)\n",
        "while contador <10:\n",
        "  #contador = contador + 1\n",
        "  contador += 1\n",
        "  print(contador)\n",
        " "
      ],
      "metadata": {
        "colab": {
          "base_uri": "https://localhost:8080/"
        },
        "id": "NlR1ty2YtfDO",
        "outputId": "6aefe6d2-c59e-4456-8c09-09d0d1af109c"
      },
      "execution_count": 14,
      "outputs": [
        {
          "output_type": "stream",
          "name": "stdout",
          "text": [
            "1\n",
            "2\n",
            "3\n",
            "4\n",
            "5\n",
            "6\n",
            "7\n",
            "8\n",
            "9\n",
            "10\n"
          ]
        }
      ]
    },
    {
      "cell_type": "code",
      "source": [
        "# EJERCICIO 3: mostrar los numeros del 1 al 10, usando la instrucción for en una lista como interable\n",
        "\n",
        "for i in [1,2,3,4,5,6,7,8,9,10]:\n",
        "  print(i)"
      ],
      "metadata": {
        "id": "7RWkgdSQvPq5"
      },
      "execution_count": null,
      "outputs": []
    },
    {
      "cell_type": "code",
      "source": [
        "# EJERCICIO 4: mostrar los numeros del 1 al 10, usando la instruccion for y la funcion range\n",
        "\n",
        "for i in range(1,11):\n",
        "  print(1)\n"
      ],
      "metadata": {
        "colab": {
          "base_uri": "https://localhost:8080/"
        },
        "id": "PyF5Ku2nwynS",
        "outputId": "afb04c56-4287-41d6-cbf6-b01f0cb2ab8a"
      },
      "execution_count": 15,
      "outputs": [
        {
          "output_type": "stream",
          "name": "stdout",
          "text": [
            "1\n",
            "1\n",
            "1\n",
            "1\n",
            "1\n",
            "1\n",
            "1\n",
            "1\n",
            "1\n",
            "1\n"
          ]
        }
      ]
    },
    {
      "cell_type": "code",
      "source": [
        "# EJERCICIO 5: mostrar una frase 10 veces,usando la instrucción for y una lista\n",
        "lista = [1,2,3,4,5,6,7,8,9,10]\n",
        "for i in lista:\n",
        "  print(\"sistemas, el mejorrrrrrrrrrrrrrrrrrrrrrrrrr!!!!!!!!!!\")\n"
      ],
      "metadata": {
        "colab": {
          "base_uri": "https://localhost:8080/"
        },
        "id": "ozKZjGUlxr5P",
        "outputId": "4f2a1f38-6909-44d8-b0bf-b2dff91496b5"
      },
      "execution_count": 19,
      "outputs": [
        {
          "output_type": "stream",
          "name": "stdout",
          "text": [
            "sistemas, el mejorrrrrrrrrrrrrrrrrrrrrrrrrr!!!!!!!!!!\n",
            "sistemas, el mejorrrrrrrrrrrrrrrrrrrrrrrrrr!!!!!!!!!!\n",
            "sistemas, el mejorrrrrrrrrrrrrrrrrrrrrrrrrr!!!!!!!!!!\n",
            "sistemas, el mejorrrrrrrrrrrrrrrrrrrrrrrrrr!!!!!!!!!!\n",
            "sistemas, el mejorrrrrrrrrrrrrrrrrrrrrrrrrr!!!!!!!!!!\n",
            "sistemas, el mejorrrrrrrrrrrrrrrrrrrrrrrrrr!!!!!!!!!!\n",
            "sistemas, el mejorrrrrrrrrrrrrrrrrrrrrrrrrr!!!!!!!!!!\n",
            "sistemas, el mejorrrrrrrrrrrrrrrrrrrrrrrrrr!!!!!!!!!!\n",
            "sistemas, el mejorrrrrrrrrrrrrrrrrrrrrrrrrr!!!!!!!!!!\n",
            "sistemas, el mejorrrrrrrrrrrrrrrrrrrrrrrrrr!!!!!!!!!!\n"
          ]
        }
      ]
    },
    {
      "cell_type": "code",
      "source": [
        "# EJERCICIO 6: mostrar la silaba inicial de los dias de la semana, usando for y una lista con la silaba inicial de los dias de la semana\n",
        "\n",
        "dias_semana = [\"lu\",\"ma\",\"mi\",\"ju\",\"vi\",\"sa\",\"do\"]\n",
        "for i in dias_semana:\n",
        "    print(1)"
      ],
      "metadata": {
        "id": "H0E6noXwygjo"
      },
      "execution_count": null,
      "outputs": []
    },
    {
      "cell_type": "code",
      "source": [
        "# EJERCICIO 7 : mostrar una lista de distintps tipos de datos, usando for\n",
        "\n",
        "lista = [1, 3.4, 9, True, \"Nestor\", 8, \"Guanentá\"]\n",
        "for i in lista:\n",
        "  print(i)\n",
        "\n"
      ],
      "metadata": {
        "id": "7xFcK6nr0UEo"
      },
      "execution_count": null,
      "outputs": []
    },
    {
      "cell_type": "code",
      "source": [
        "# EJERCICIO 8: ingresar su nombre y mostrarle letra por letra, usando for\n",
        "\n",
        "nombre = input(\"digite su nombre:\")\n",
        "for letra in nombre:\n",
        "  print(letra)"
      ],
      "metadata": {
        "id": "QvaipfQc1486"
      },
      "execution_count": null,
      "outputs": []
    },
    {
      "cell_type": "code",
      "source": [
        "# EJERCICIO 9 : ingresar su nombre y mostrarle letra por letra, usando for, cambiando la letra e por asterisco * a la vocal e\n",
        "\n",
        "nombre = input(\"digite su nombre:\")\n",
        "for letra in nombre:\n",
        "  if letra == \"e\":\n",
        "    print(\"*\")     \n",
        "else:\n",
        "      print(letra)\n"
      ],
      "metadata": {
        "colab": {
          "base_uri": "https://localhost:8080/"
        },
        "id": "VnCq7SBo0T68",
        "outputId": "0f56ea2e-12fe-4e17-881c-0c557fbc1015"
      },
      "execution_count": 16,
      "outputs": [
        {
          "output_type": "stream",
          "name": "stdout",
          "text": [
            "digite su nombre:david\n",
            "d\n"
          ]
        }
      ]
    },
    {
      "cell_type": "code",
      "source": [
        "# EJERCICIO 10: ingresar su nombre  y mostrarlo letra por letra en mayuscula utilizando for\n",
        "\n",
        "nombre = input(\"digite su nombre:\")\n",
        "for letra in nombre:\n",
        "  print(letra.upper())"
      ],
      "metadata": {
        "id": "FNgjnk4hAG8Z"
      },
      "execution_count": null,
      "outputs": []
    },
    {
      "cell_type": "code",
      "source": [
        "# EJERCICIO 11: imprimir listas de numeros usando for y range\n",
        "\n",
        "print(\"numeros del 0 al 9\")\n",
        "for i in range(1,11):\n",
        "  print(i)\n",
        "\n",
        "  print(\"numeros del 1 al 10\")\n",
        "  for i in range(1,11):\n",
        "    print(i)\n",
        "    \n",
        "print(\" 10 veces la frase\")\n",
        "for i in range(10):\n",
        "  print(\"sistemas el mejor\")\n",
        "\n",
        "print(\"10 veces la frase i = \")\n",
        "for i in range(10):\n",
        "  print(\"i =\" + str(i))\n",
        "\n",
        "print(\"10 veces la frase i =\")\n",
        "for i in range(10):\n",
        "  print(f\"1 = {1}\")\n",
        "\n",
        "print(\"rango del 7 al 18, incrementando de 4 en 4\")\n",
        "for i in range(7,19,4):\n",
        "  print(i)\n",
        "\n",
        "print(\"convierte rango en lista a, y la muestra\")\n",
        "a = list(range (1000))\n",
        "print(a)"
      ],
      "metadata": {
        "id": "EUYUWKbfBJ7V"
      },
      "execution_count": null,
      "outputs": []
    },
    {
      "cell_type": "markdown",
      "source": [
        "# EJERCICIOS\n",
        "1.Dada la siguiente lista de numeros, (20,21,30,41,50,51,201) mostrar en pantalla  solo los que no terminan en 1.\n",
        "\n",
        "2.Mostrar 1000 veces la palabra \"programacion\".\n",
        "\n",
        "3.Del coonjunto de cadenas [E,F,M,A] que corresponden a las iniciales de los primeros cuatro meses del año, mostrar el nombre completo de dichos meses. \n",
        "\n",
        "4.Leer un texto y determinar cuantas veces dicho texto contiene una de las vocales en minuscula y/o mayúscula."
      ],
      "metadata": {
        "id": "OvibGWacG9F0"
      }
    },
    {
      "cell_type": "code",
      "source": [
        "# EJERCICIO 1\n",
        "\n",
        "numeros = [20,21,30,41,50,51,201]\n",
        "for numero in numeros:\n",
        "  if numero % 10 != 1:\n",
        "    print(numero)"
      ],
      "metadata": {
        "id": "-09G6zBNJQLY"
      },
      "execution_count": null,
      "outputs": []
    },
    {
      "cell_type": "code",
      "source": [
        "# EJERCICIO 2\n",
        "\n",
        "for i in range(1,1001):\n",
        "  print(\"programación\")\n"
      ],
      "metadata": {
        "id": "HmRo5m99Jk6_"
      },
      "execution_count": null,
      "outputs": []
    },
    {
      "cell_type": "code",
      "source": [
        "# EJERCICIO 3\n",
        "\n",
        "list = [\"E,F,M,A\"]\n",
        "meses_año =[\"Enero,Febrero,Marzo,Abril\"]\n",
        "E = \"Enero\"\n",
        "F = \"Febrero\"\n",
        "M = \"Marzo\"\n",
        "A = \"Abril\"\n",
        "for i in meses_año:\n",
        "  print(i)"
      ],
      "metadata": {
        "id": "FK6dOeJ9SvmY"
      },
      "execution_count": 22,
      "outputs": []
    },
    {
      "cell_type": "code",
      "source": [
        "# EJERCICIO  4\n",
        "\n",
        "texto  = \"Soy Davidcito el mas lindo\"\n",
        "vocales = \"aeiouAEIOU\"\n",
        "contador = 0\n",
        "for letra in texto:\n",
        "  if letra in vocales:\n",
        "    contador += 1\n",
        "    print(\"el texto contiene:\", contador, \"vocales\")"
      ],
      "metadata": {
        "id": "rQQGJ0spVdgy"
      },
      "execution_count": null,
      "outputs": []
    },
    {
      "cell_type": "code",
      "source": [],
      "metadata": {
        "id": "A51rIBavVIEw"
      },
      "execution_count": null,
      "outputs": []
    }
  ]
}